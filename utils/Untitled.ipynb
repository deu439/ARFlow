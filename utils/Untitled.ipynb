{
 "cells": [
  {
   "cell_type": "code",
   "execution_count": 88,
   "id": "9b0b9ba2-0801-4902-bd1d-138463e2ed54",
   "metadata": {},
   "outputs": [
    {
     "name": "stdout",
     "output_type": "stream",
     "text": [
      "Device: cuda\n"
     ]
    }
   ],
   "source": [
    "import triag_solve\n",
    "import triag_solve_cuda\n",
    "import torch.cuda\n",
    "from torch.optim import Adam\n",
    "from torch.linalg import solve\n",
    "from tqdm import tqdm\n",
    "import matplotlib.pyplot as plt\n",
    "import numpy as np\n",
    "\n",
    "device = torch.device('cuda' if torch.cuda.is_available() else \"cpu\")\n",
    "\n",
    "print(f\"Device: {device}\")\n",
    "\n",
    "N = 10\n",
    "batchsize = 8\n",
    "n = 100"
   ]
  },
  {
   "cell_type": "code",
   "execution_count": 89,
   "id": "a6a68a24-083e-4883-a61b-4e4da33dd247",
   "metadata": {},
   "outputs": [],
   "source": [
    "mu = torch.randn(1, n,1, requires_grad=True, dtype=torch.double, device=device)\n",
    "Ui = torch.rand(1, n,n, requires_grad=True, dtype=torch.double, device=device)\n",
    "opt = Adam([mu, Ui])\n",
    "\n"
   ]
  },
  {
   "cell_type": "code",
   "execution_count": 90,
   "id": "391834f4-68ab-41de-8735-556530b84d02",
   "metadata": {},
   "outputs": [
    {
     "name": "stderr",
     "output_type": "stream",
     "text": [
      "100%|█████████████████████████████████████████████████████████████████████████████████████████████████████████████| 10/10 [00:00<00:00, 643.54it/s]\n"
     ]
    }
   ],
   "source": [
    "losses = np.zeros(N)\n",
    "for i in tqdm(range(N)):\n",
    "    U = torch.triu(Ui)\n",
    "    X = torch.randn(batchsize, n, 1, dtype=torch.double).to(device)\n",
    "    L = U.mT.inverse()\n",
    "    G = torch.randn(batchsize, n, 1, dtype=torch.double, device=device)\n",
    "    Y = mu + L @ G\n",
    "\n",
    "    loss1 = ((X-Y)**2).sum()/batchsize\n",
    "    loss2 = torch.log(torch.diagonal(U,dim1=1, dim2=2)).sum()\n",
    "    loss = loss1+loss2\n",
    "    \n",
    "    #print(loss)\n",
    "    losses[i] = loss.cpu().detach().numpy()\n",
    "    loss.backward()\n",
    "    opt.step()\n",
    "\n"
   ]
  },
  {
   "cell_type": "code",
   "execution_count": 91,
   "id": "89eba80d-a33b-42a3-a013-783aa19c5883",
   "metadata": {},
   "outputs": [
    {
     "data": {
      "text/plain": [
       "[<matplotlib.lines.Line2D at 0x7093e21ddad0>]"
      ]
     },
     "execution_count": 91,
     "metadata": {},
     "output_type": "execute_result"
    },
    {
     "data": {
      "image/png": "[encoded data removed]",
      "text/plain": [
       "<Figure size 640x480 with 1 Axes>"
      ]
     },
     "metadata": {},
     "output_type": "display_data"
    }
   ],
   "source": [
    "plt.plot(losses)"
   ]
  },
  {
   "cell_type": "code",
   "execution_count": 92,
   "id": "605d376a-d571-4706-90fd-e0fe29f37bd1",
   "metadata": {},
   "outputs": [
    {
     "data": {
      "text/plain": [
       "tensor([[[0.2838, 0.3876, 0.6079,  ..., 0.1399, 0.5936, 0.8239],\n",
       "         [0.0000, 0.0419, 0.9606,  ..., 0.5544, 0.7973, 0.9327],\n",
       "         [0.0000, 0.0000, 0.5034,  ..., 0.3531, 0.4319, 0.8648],\n",
       "         ...,\n",
       "         [0.0000, 0.0000, 0.0000,  ..., 0.7384, 0.4385, 0.7578],\n",
       "         [0.0000, 0.0000, 0.0000,  ..., 0.0000, 0.5878, 0.9874],\n",
       "         [0.0000, 0.0000, 0.0000,  ..., 0.0000, 0.0000, 0.8473]]],\n",
       "       device='cuda:0', dtype=torch.float64, grad_fn=<TriuBackward0>)"
      ]
     },
     "execution_count": 92,
     "metadata": {},
     "output_type": "execute_result"
    }
   ],
   "source": [
    "U"
   ]
  },
  {
   "cell_type": "code",
   "execution_count": 95,
   "id": "2d62f1df-1192-433d-9349-a05ad439e2af",
   "metadata": {},
   "outputs": [
    {
     "data": {
      "text/plain": [
       "array([1.35363364e+32, 3.73324829e+33, 5.28738085e+31, 9.46855593e+33,\n",
       "       9.13391989e+34, 6.61971675e+35, 4.68040459e+32, 1.38190674e+33,\n",
       "       2.36592232e+32, 2.81939397e+32])"
      ]
     },
     "execution_count": 95,
     "metadata": {},
     "output_type": "execute_result"
    }
   ],
   "source": [
    "losses[:]"
   ]
  },
  {
   "cell_type": "code",
   "execution_count": 94,
   "id": "6d63e6f7-f9f3-4216-b60c-1a0ee5f3b778",
   "metadata": {},
   "outputs": [
    {
     "data": {
      "text/plain": [
       "tensor([[[-1.7792e-01],\n",
       "         [-8.4750e-01],\n",
       "         [ 2.2631e+00],\n",
       "         [-2.6318e-01],\n",
       "         [-6.7255e-02],\n",
       "         [ 2.9035e-01],\n",
       "         [ 2.0258e-01],\n",
       "         [ 2.0891e+00],\n",
       "         [ 8.5566e-01],\n",
       "         [-8.2295e-01],\n",
       "         [-3.9624e-01],\n",
       "         [-1.9408e-01],\n",
       "         [-1.0424e+00],\n",
       "         [-1.1435e+00],\n",
       "         [-1.0319e+00],\n",
       "         [-5.8390e-01],\n",
       "         [ 6.7391e-01],\n",
       "         [ 1.6450e+00],\n",
       "         [ 1.3744e+00],\n",
       "         [ 1.0758e+00],\n",
       "         [ 1.0380e+00],\n",
       "         [ 1.1899e-01],\n",
       "         [ 6.4613e-01],\n",
       "         [ 8.4586e-01],\n",
       "         [-2.2865e+00],\n",
       "         [-1.1341e-02],\n",
       "         [-8.3984e-01],\n",
       "         [-8.8236e-01],\n",
       "         [-1.9522e+00],\n",
       "         [-1.2598e+00],\n",
       "         [-1.6217e-01],\n",
       "         [-1.8257e+00],\n",
       "         [-1.0505e+00],\n",
       "         [ 6.8664e-01],\n",
       "         [-1.8634e+00],\n",
       "         [-9.8957e-01],\n",
       "         [ 8.1825e-01],\n",
       "         [ 6.9387e-01],\n",
       "         [ 1.7641e-01],\n",
       "         [-1.0958e+00],\n",
       "         [-1.2245e+00],\n",
       "         [-6.9978e-01],\n",
       "         [-3.3206e-02],\n",
       "         [ 1.9848e+00],\n",
       "         [-6.4844e-01],\n",
       "         [ 1.7899e+00],\n",
       "         [-3.0801e-01],\n",
       "         [-1.1711e+00],\n",
       "         [ 1.1650e+00],\n",
       "         [ 1.6646e+00],\n",
       "         [-1.4946e+00],\n",
       "         [-1.1198e+00],\n",
       "         [ 1.1275e+00],\n",
       "         [ 3.0292e-01],\n",
       "         [-2.0786e-01],\n",
       "         [ 9.7726e-01],\n",
       "         [ 9.4817e-02],\n",
       "         [ 2.6827e-01],\n",
       "         [-8.2684e-01],\n",
       "         [ 3.7863e-01],\n",
       "         [ 6.7165e-01],\n",
       "         [ 9.1414e-01],\n",
       "         [ 1.1471e+00],\n",
       "         [-1.0712e+00],\n",
       "         [ 1.5899e+00],\n",
       "         [ 1.0470e+00],\n",
       "         [ 2.1204e+00],\n",
       "         [-1.4491e+00],\n",
       "         [ 6.8836e-01],\n",
       "         [-4.3050e-01],\n",
       "         [ 1.6317e+00],\n",
       "         [ 1.6045e+00],\n",
       "         [-7.8284e-01],\n",
       "         [ 1.5618e+00],\n",
       "         [ 1.9256e+00],\n",
       "         [ 4.7932e-01],\n",
       "         [ 6.8847e-01],\n",
       "         [-1.6798e+00],\n",
       "         [ 9.6449e-02],\n",
       "         [-8.4986e-01],\n",
       "         [ 1.3773e+00],\n",
       "         [-1.0827e+00],\n",
       "         [-1.6592e+00],\n",
       "         [-1.8313e-03],\n",
       "         [ 1.3230e+00],\n",
       "         [-1.8622e+00],\n",
       "         [ 1.7987e+00],\n",
       "         [-1.1142e+00],\n",
       "         [ 7.4505e-01],\n",
       "         [ 1.4329e-01],\n",
       "         [-7.0581e-02],\n",
       "         [ 3.8301e-01],\n",
       "         [-2.1036e-01],\n",
       "         [-1.8974e+00],\n",
       "         [-7.1076e-02],\n",
       "         [ 1.1402e+00],\n",
       "         [ 1.8370e+00],\n",
       "         [ 3.4707e-01],\n",
       "         [-3.8072e-01],\n",
       "         [-8.2884e-01]]], device='cuda:0', dtype=torch.float64,\n",
       "       requires_grad=True)"
      ]
     },
     "execution_count": 94,
     "metadata": {},
     "output_type": "execute_result"
    }
   ],
   "source": [
    "mu"
   ]
  },
  {
   "cell_type": "code",
   "execution_count": null,
   "id": "9f2505e9-6572-4699-a31b-c9af317b1bd4",
   "metadata": {},
   "outputs": [],
   "source": []
  }
 ],
 "metadata": {
  "kernelspec": {
   "display_name": "ARFlow",
   "language": "python",
   "name": "arflow"
  },
  "language_info": {
   "codemirror_mode": {
    "name": "ipython",
    "version": 3
   },
   "file_extension": ".py",
   "mimetype": "text/x-python",
   "name": "python",
   "nbconvert_exporter": "python",
   "pygments_lexer": "ipython3",
   "version": "3.11.7"
  }
 },
 "nbformat": 4,
 "nbformat_minor": 5
}
